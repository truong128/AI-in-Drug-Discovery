{
  "nbformat": 4,
  "nbformat_minor": 0,
  "metadata": {
    "colab": {
      "name": "ROC-curve-kNN.ipynb",
      "provenance": [],
      "collapsed_sections": []
    },
    "kernelspec": {
      "name": "python3",
      "display_name": "Python 3"
    }
  },
  "cells": [
    {
      "cell_type": "markdown",
      "metadata": {
        "id": "oPUuSjJ96Au-"
      },
      "source": [
        "# **Machine Learning in Python: Making Receiver Operating Characteristic (ROC) curve**\n",
        "\n",
        "Chanin Nantasenamat\n",
        "\n",
        "<i>Data Professor YouTube channel, http://youtube.com/dataprofessor </i>\n",
        "\n",
        "In this Jupyter notebook, we will be making a Receiver Operating Characteristic (ROC) curve using a synthetic data set as an example."
      ]
    },
    {
      "cell_type": "markdown",
      "metadata": {
        "id": "_SJy5TKvuF9s"
      },
      "source": [
        "## **What is ROC curve?**\n",
        "\n",
        "The **ROC curve** summarizes the prediction performance of a classification model at all classification thresholds. Particularly, the ROC curve plots the **False Positive Rate (FPR)** on the *X-axis* and the **True Positive Rate (TPR)** on the *Y-axis*.\n",
        "\n",
        "$\\text{TPR (Sensitivity)} = \\frac{TP}{TP + FN}$\n",
        "\n",
        "$\\text{FPR (1 - Specificity)} = \\frac{FP}{TN + FP}$"
      ]
    },
    {
      "cell_type": "markdown",
      "metadata": {
        "id": "KwebBKbP3Vsx"
      },
      "source": [
        "## **Generate synthetic dataset**"
      ]
    },
    {
      "cell_type": "code",
      "metadata": {
        "id": "ECJbWdcw5JMu"
      },
      "source": [
        "from sklearn.datasets import make_classification"
      ],
      "execution_count": null,
      "outputs": []
    },
    {
      "cell_type": "code",
      "metadata": {
        "id": "Wl9Gu5Ba1d1X"
      },
      "source": [
        "X, Y = make_classification(n_samples=2000, n_classes=2, n_features=10, random_state=0)"
      ],
      "execution_count": null,
      "outputs": []
    },
    {
      "cell_type": "markdown",
      "metadata": {
        "id": "eqZsiSMtrdm9"
      },
      "source": [
        "## **Add noisy features to make the problem more difficult** $^1$\n"
      ]
    },
    {
      "cell_type": "code",
      "metadata": {
        "id": "Qlb1adRPoOU7"
      },
      "source": [
        "import numpy as np"
      ],
      "execution_count": null,
      "outputs": []
    },
    {
      "cell_type": "code",
      "metadata": {
        "id": "r9otz_41rPXH"
      },
      "source": [
        "random_state = np.random.RandomState(0)\n",
        "n_samples, n_features = X.shape\n",
        "X = np.c_[X, random_state.randn(n_samples, 200 * n_features)]"
      ],
      "execution_count": null,
      "outputs": []
    },
    {
      "cell_type": "markdown",
      "metadata": {
        "id": "nAw93CgK4178"
      },
      "source": [
        "## **Data splitting**"
      ]
    },
    {
      "cell_type": "code",
      "metadata": {
        "id": "NRmlzFOA4x9Z"
      },
      "source": [
        "from sklearn.model_selection import train_test_split"
      ],
      "execution_count": null,
      "outputs": []
    },
    {
      "cell_type": "code",
      "metadata": {
        "id": "yTep82KV9axn"
      },
      "source": [
        "X_train, X_test, Y_train, Y_test = train_test_split(X, Y, test_size=.2,\n",
        "                                                    random_state=0)"
      ],
      "execution_count": null,
      "outputs": []
    },
    {
      "cell_type": "markdown",
      "metadata": {
        "id": "V_MvToES4n_A"
      },
      "source": [
        "## **Build classification model**"
      ]
    },
    {
      "cell_type": "code",
      "metadata": {
        "id": "Fo9Xk5T94v6j"
      },
      "source": [
        "from sklearn.ensemble import RandomForestClassifier\n",
        "from sklearn.naive_bayes import GaussianNB\n",
        "from sklearn.neighbors import KNeighborsClassifier"
      ],
      "execution_count": null,
      "outputs": []
    },
    {
      "cell_type": "markdown",
      "metadata": {
        "id": "0C3NRujmed_j"
      },
      "source": [
        "### Random Forest"
      ]
    },
    {
      "cell_type": "code",
      "metadata": {
        "id": "5WQ8UFXe9Zmx",
        "colab": {
          "base_uri": "https://localhost:8080/",
          "height": 153
        },
        "outputId": "01076a47-8c06-41c6-c804-7f7559459336"
      },
      "source": [
        "rf = RandomForestClassifier(max_features=5, n_estimators=500)\n",
        "rf.fit(X_train, Y_train)"
      ],
      "execution_count": null,
      "outputs": [
        {
          "output_type": "execute_result",
          "data": {
            "text/plain": [
              "RandomForestClassifier(bootstrap=True, ccp_alpha=0.0, class_weight=None,\n",
              "                       criterion='gini', max_depth=None, max_features=5,\n",
              "                       max_leaf_nodes=None, max_samples=None,\n",
              "                       min_impurity_decrease=0.0, min_impurity_split=None,\n",
              "                       min_samples_leaf=1, min_samples_split=2,\n",
              "                       min_weight_fraction_leaf=0.0, n_estimators=500,\n",
              "                       n_jobs=None, oob_score=False, random_state=None,\n",
              "                       verbose=0, warm_start=False)"
            ]
          },
          "metadata": {
            "tags": []
          },
          "execution_count": 8
        }
      ]
    },
    {
      "cell_type": "markdown",
      "metadata": {
        "id": "Aw_Ax0cne2BC"
      },
      "source": [
        "### Naive Bayes"
      ]
    },
    {
      "cell_type": "code",
      "metadata": {
        "id": "nxmFVCs-e9Mz",
        "colab": {
          "base_uri": "https://localhost:8080/",
          "height": 34
        },
        "outputId": "89dabbc9-bf3b-4d22-d759-edb8d81f336e"
      },
      "source": [
        "nb = GaussianNB()\n",
        "nb.fit(X_train, Y_train)"
      ],
      "execution_count": null,
      "outputs": [
        {
          "output_type": "execute_result",
          "data": {
            "text/plain": [
              "GaussianNB(priors=None, var_smoothing=1e-09)"
            ]
          },
          "metadata": {
            "tags": []
          },
          "execution_count": 9
        }
      ]
    },
    {
      "cell_type": "code",
      "metadata": {
        "id": "6vmJgmWzEUdq",
        "colab": {
          "base_uri": "https://localhost:8080/",
          "height": 68
        },
        "outputId": "4256be31-5bf7-42d9-c3db-6d7977529230"
      },
      "source": [
        "knn = KNeighborsClassifier()\n",
        "knn.fit(X_train, Y_train)"
      ],
      "execution_count": null,
      "outputs": [
        {
          "output_type": "execute_result",
          "data": {
            "text/plain": [
              "KNeighborsClassifier(algorithm='auto', leaf_size=30, metric='minkowski',\n",
              "                     metric_params=None, n_jobs=None, n_neighbors=5, p=2,\n",
              "                     weights='uniform')"
            ]
          },
          "metadata": {
            "tags": []
          },
          "execution_count": 10
        }
      ]
    },
    {
      "cell_type": "markdown",
      "metadata": {
        "id": "hl_hDOsvDmyV"
      },
      "source": [
        "## **Prediction probabilities** $^2$"
      ]
    },
    {
      "cell_type": "code",
      "metadata": {
        "id": "jVkSSnnGCQ0O"
      },
      "source": [
        "r_probs = [0 for _ in range(len(Y_test))]\n",
        "rf_probs = rf.predict_proba(X_test)\n",
        "nb_probs = nb.predict_proba(X_test)\n",
        "knn_probs = knn.predict_proba(X_test)"
      ],
      "execution_count": null,
      "outputs": []
    },
    {
      "cell_type": "markdown",
      "metadata": {
        "id": "GNha6VVeDsyb"
      },
      "source": [
        "Probabilities for the positive outcome is kept."
      ]
    },
    {
      "cell_type": "code",
      "metadata": {
        "id": "a4j8EtvZCdF8"
      },
      "source": [
        "rf_probs = rf_probs[:, 1]\n",
        "nb_probs = nb_probs[:, 1]\n",
        "knn_probs = knn_probs[:, 1]"
      ],
      "execution_count": null,
      "outputs": []
    },
    {
      "cell_type": "markdown",
      "metadata": {
        "id": "rf9gjJcb4i0e"
      },
      "source": [
        "## **Computing AUROC and ROC curve values**"
      ]
    },
    {
      "cell_type": "code",
      "metadata": {
        "id": "cSfzTGWn4lXe"
      },
      "source": [
        "from sklearn.metrics import roc_curve, roc_auc_score"
      ],
      "execution_count": null,
      "outputs": []
    },
    {
      "cell_type": "markdown",
      "metadata": {
        "id": "gpr5ON6QC7ip"
      },
      "source": [
        "### **Calculate AUROC**\n",
        "**ROC** is the receiver operating characteristic\n",
        "**AUROC** is the area under the ROC curve"
      ]
    },
    {
      "cell_type": "code",
      "metadata": {
        "id": "yVwjOC6XC5lw"
      },
      "source": [
        "r_auc = roc_auc_score(Y_test, r_probs)\n",
        "rf_auc = roc_auc_score(Y_test, rf_probs)\n",
        "nb_auc = roc_auc_score(Y_test, nb_probs)\n",
        "knn_auc = roc_auc_score(Y_test, knn_probs)"
      ],
      "execution_count": null,
      "outputs": []
    },
    {
      "cell_type": "markdown",
      "metadata": {
        "id": "TIzyhgstDMqw"
      },
      "source": [
        "### **Print AUROC scores**"
      ]
    },
    {
      "cell_type": "code",
      "metadata": {
        "id": "lUvZ8_BbC5uf",
        "colab": {
          "base_uri": "https://localhost:8080/",
          "height": 85
        },
        "outputId": "59933cb3-8d5b-4ea3-e056-510803ca3adf"
      },
      "source": [
        "print('Random (chance) Prediction: AUROC = %.3f' % (r_auc))\n",
        "print('Random Forest: AUROC = %.3f' % (rf_auc))\n",
        "print('Naive Bayes: AUROC = %.3f' % (nb_auc))\n",
        "print('K Nearest Neighbors: AUROC = %.3f' % (knn_auc))"
      ],
      "execution_count": null,
      "outputs": [
        {
          "output_type": "stream",
          "text": [
            "Random (chance) Prediction: AUROC = 0.500\n",
            "Random Forest: AUROC = 0.926\n",
            "Naive Bayes: AUROC = 0.993\n",
            "K Nearest Neighbors: AUROC = 0.580\n"
          ],
          "name": "stdout"
        }
      ]
    },
    {
      "cell_type": "markdown",
      "metadata": {
        "id": "7AsuB3AQE5FC"
      },
      "source": [
        "### **Calculate ROC curve**"
      ]
    },
    {
      "cell_type": "code",
      "metadata": {
        "id": "lApmrHMp9YDb"
      },
      "source": [
        "r_fpr, r_tpr, _ = roc_curve(Y_test, r_probs)\n",
        "rf_fpr, rf_tpr, _ = roc_curve(Y_test, rf_probs)\n",
        "nb_fpr, nb_tpr, _ = roc_curve(Y_test, nb_probs)\n",
        "knn_fpr, knn_tpr, _ = roc_curve(Y_test, knn_probs)"
      ],
      "execution_count": null,
      "outputs": []
    },
    {
      "cell_type": "code",
      "metadata": {
        "id": "QGArWW4QFbXZ",
        "colab": {
          "base_uri": "https://localhost:8080/",
          "height": 187
        },
        "outputId": "2bad43be-2e1a-4e47-bfff-668256e92324"
      },
      "source": [
        "nb_fpr, nb_tpr"
      ],
      "execution_count": null,
      "outputs": [
        {
          "output_type": "execute_result",
          "data": {
            "text/plain": [
              "(array([0.        , 0.        , 0.        , 0.        , 0.        ,\n",
              "        0.        , 0.00483092, 0.00483092, 0.00483092, 0.00483092,\n",
              "        0.0531401 , 0.0531401 , 0.06280193, 0.06280193, 0.08695652,\n",
              "        0.08695652, 0.12560386, 0.12560386, 0.2705314 , 0.2705314 ,\n",
              "        1.        ]),\n",
              " array([0.        , 0.14507772, 0.17098446, 0.1761658 , 0.20725389,\n",
              "        0.21761658, 0.21761658, 0.22279793, 0.23316062, 0.97409326,\n",
              "        0.97409326, 0.97927461, 0.97927461, 0.98445596, 0.98445596,\n",
              "        0.98963731, 0.98963731, 0.99481865, 0.99481865, 1.        ,\n",
              "        1.        ]))"
            ]
          },
          "metadata": {
            "tags": []
          },
          "execution_count": 17
        }
      ]
    },
    {
      "cell_type": "code",
      "metadata": {
        "id": "cygQlObWFUX4",
        "colab": {
          "base_uri": "https://localhost:8080/",
          "height": 85
        },
        "outputId": "3c5bb0b6-3330-47fa-b344-6a9243d32831"
      },
      "source": [
        "knn_fpr, knn_tpr"
      ],
      "execution_count": null,
      "outputs": [
        {
          "output_type": "execute_result",
          "data": {
            "text/plain": [
              "(array([0.        , 0.04347826, 0.16908213, 0.50241546, 0.79710145,\n",
              "        0.97101449, 1.        ]),\n",
              " array([0.        , 0.06217617, 0.2642487 , 0.61658031, 0.88082902,\n",
              "        0.97927461, 1.        ]))"
            ]
          },
          "metadata": {
            "tags": []
          },
          "execution_count": 18
        }
      ]
    },
    {
      "cell_type": "markdown",
      "metadata": {
        "id": "tXpx2YMM4Gsb"
      },
      "source": [
        "## **Plot the ROC curve**"
      ]
    },
    {
      "cell_type": "code",
      "metadata": {
        "id": "oL96kXed4MvL"
      },
      "source": [
        "import matplotlib.pyplot as plt"
      ],
      "execution_count": null,
      "outputs": []
    },
    {
      "cell_type": "code",
      "metadata": {
        "id": "v2Q6p9qmFVxB",
        "colab": {
          "base_uri": "https://localhost:8080/",
          "height": 312
        },
        "outputId": "173b684e-d6e4-4de7-98d8-ab90a20f04fc"
      },
      "source": [
        "plt.plot(r_fpr, r_tpr, linestyle='--', label='Random prediction (AUROC = %0.3f)' % r_auc)\n",
        "plt.plot(rf_fpr, rf_tpr, marker='.', label='Random Forest (AUROC = %0.3f)' % rf_auc)\n",
        "plt.plot(nb_fpr, nb_tpr, marker='.', label='Naive Bayes (AUROC = %0.3f)' % nb_auc)\n",
        "plt.plot(knn_fpr, knn_tpr, marker='.', label='K Nearest Neighbors (AUROC = %0.3f)' % knn_auc)\n",
        "\n",
        "# Title\n",
        "plt.title('ROC Plot')\n",
        "# Axis labels\n",
        "plt.xlabel('False Positive Rate')\n",
        "plt.ylabel('True Positive Rate')\n",
        "# Show legend\n",
        "plt.legend() # \n",
        "# Show plot\n",
        "#plt.show()"
      ],
      "execution_count": null,
      "outputs": [
        {
          "output_type": "execute_result",
          "data": {
            "text/plain": [
              "<matplotlib.legend.Legend at 0x7f3bc0a897f0>"
            ]
          },
          "metadata": {
            "tags": []
          },
          "execution_count": 20
        },
        {
          "output_type": "display_data",
          "data": {
            "image/png": "[encoded data removed]",
            "text/plain": [
              "<Figure size 432x288 with 1 Axes>"
            ]
          },
          "metadata": {
            "tags": [],
            "needs_background": "light"
          }
        }
      ]
    },
    {
      "cell_type": "markdown",
      "metadata": {
        "id": "6GhglFZ5dI2M"
      },
      "source": [
        "## **Save ROC plot**"
      ]
    },
    {
      "cell_type": "code",
      "metadata": {
        "id": "h0o6gMvYdrXg"
      },
      "source": [
        "from IPython.display import Image, display"
      ],
      "execution_count": null,
      "outputs": []
    },
    {
      "cell_type": "markdown",
      "metadata": {
        "id": "MkbOauQueDnA"
      },
      "source": [
        "### Save plot to files"
      ]
    },
    {
      "cell_type": "code",
      "metadata": {
        "id": "O7kzGtE_dNfo",
        "colab": {
          "base_uri": "https://localhost:8080/",
          "height": 34
        },
        "outputId": "af518469-cb56-4a36-8353-43c99b53f5ec"
      },
      "source": [
        "plt.savefig('roc.pdf')"
      ],
      "execution_count": null,
      "outputs": [
        {
          "output_type": "display_data",
          "data": {
            "text/plain": [
              "<Figure size 432x288 with 0 Axes>"
            ]
          },
          "metadata": {
            "tags": []
          }
        }
      ]
    },
    {
      "cell_type": "code",
      "metadata": {
        "id": "j8ZKJopldaYt",
        "colab": {
          "base_uri": "https://localhost:8080/",
          "height": 34
        },
        "outputId": "07c6173b-7f3d-4523-a582-ac1798ed3c73"
      },
      "source": [
        "plt.savefig('roc.png')"
      ],
      "execution_count": null,
      "outputs": [
        {
          "output_type": "display_data",
          "data": {
            "text/plain": [
              "<Figure size 432x288 with 0 Axes>"
            ]
          },
          "metadata": {
            "tags": []
          }
        }
      ]
    },
    {
      "cell_type": "code",
      "metadata": {
        "id": "L3TOpsDSdVv3",
        "colab": {
          "base_uri": "https://localhost:8080/",
          "height": 85
        },
        "outputId": "1a873c39-1bf4-441f-8e78-90b472f97b54"
      },
      "source": [
        "! ls -l"
      ],
      "execution_count": null,
      "outputs": [
        {
          "output_type": "stream",
          "text": [
            "total 12\n",
            "-rw-r--r-- 1 root root 1191 Apr 23 08:10 roc.pdf\n",
            "-rw-r--r-- 1 root root 1273 Apr 23 08:10 roc.png\n",
            "drwxr-xr-x 1 root root 4096 Apr  3 16:24 sample_data\n"
          ],
          "name": "stdout"
        }
      ]
    },
    {
      "cell_type": "markdown",
      "metadata": {
        "id": "70RXsiGNeGTy"
      },
      "source": [
        "### View the generated PNG and PDF files"
      ]
    },
    {
      "cell_type": "markdown",
      "metadata": {
        "id": "KjKvljmy5O25"
      },
      "source": [
        "## **Reference**\n",
        "1. https://scikit-learn.org/stable/auto_examples/model_selection/plot_roc.html\n",
        "2. https://machinelearningmastery.com/roc-curves-and-precision-recall-curves-for-classification-in-python/\n"
      ]
    },
    {
      "cell_type": "markdown",
      "metadata": {
        "id": "qen82yXu_VFw"
      },
      "source": [
        "---"
      ]
    }
  ]
}