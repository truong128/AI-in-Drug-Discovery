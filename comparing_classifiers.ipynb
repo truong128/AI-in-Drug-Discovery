{
  "nbformat": 4,
  "nbformat_minor": 0,
  "metadata": {
    "kernelspec": {
      "display_name": "Python 3",
      "language": "python",
      "name": "python3"
    },
    "language_info": {
      "codemirror_mode": {
        "name": "ipython",
        "version": 3
      },
      "file_extension": ".py",
      "mimetype": "text/x-python",
      "name": "python",
      "nbconvert_exporter": "python",
      "pygments_lexer": "ipython3",
      "version": "3.7.6"
    },
    "colab": {
      "name": "comparing-classifiers.ipynb",
      "provenance": []
    }
  },
  "cells": [
    {
      "cell_type": "markdown",
      "metadata": {
        "id": "JvLfXZGZf_Bp"
      },
      "source": [
        "# Comparing Classifiers for Building Classification Models\n",
        "\n",
        "Chanin Nantasenamat\n",
        "\n",
        "<i>Data Professor YouTube channel, http://youtube.com/dataprofessor </i>\n",
        "\n",
        "In this Jupyter notebook, we will be comparing the performance of different classifiers for building classification models."
      ]
    },
    {
      "cell_type": "markdown",
      "metadata": {
        "id": "kapXSfLLf_Bs"
      },
      "source": [
        "## 1. Make synthetic dataset"
      ]
    },
    {
      "cell_type": "markdown",
      "metadata": {
        "id": "C64UHfsof_Bt"
      },
      "source": [
        "### 1.1. Import library"
      ]
    },
    {
      "cell_type": "code",
      "metadata": {
        "id": "g_ygv8Qxf_Bt"
      },
      "source": [
        "from sklearn.datasets import make_classification"
      ],
      "execution_count": null,
      "outputs": []
    },
    {
      "cell_type": "markdown",
      "metadata": {
        "id": "3TKXNLfAf_Bu"
      },
      "source": [
        "### 1.2. Generate the dataset"
      ]
    },
    {
      "cell_type": "code",
      "metadata": {
        "id": "9-Bl2xrif_C1"
      },
      "source": [
        "X, Y = make_classification(n_samples=1000, n_classes=2, n_features=5, n_redundant=0, random_state=1)"
      ],
      "execution_count": null,
      "outputs": []
    },
    {
      "cell_type": "markdown",
      "metadata": {
        "id": "VAP8Iy8ff_C1"
      },
      "source": [
        "### 1.3. Let's examine the data dimension"
      ]
    },
    {
      "cell_type": "code",
      "metadata": {
        "id": "qBqXzXJ5f_C1",
        "outputId": "d07b2540-8bf5-4888-e838-d7937db50354"
      },
      "source": [
        "X.shape"
      ],
      "execution_count": null,
      "outputs": [
        {
          "output_type": "execute_result",
          "data": {
            "text/plain": [
              "(1000, 5)"
            ]
          },
          "metadata": {
            "tags": []
          },
          "execution_count": 3
        }
      ]
    },
    {
      "cell_type": "code",
      "metadata": {
        "id": "mqRX8YhHf_C6",
        "outputId": "bddedfc3-6315-4349-bf68-1d537bf6f638"
      },
      "source": [
        "Y.shape"
      ],
      "execution_count": null,
      "outputs": [
        {
          "output_type": "execute_result",
          "data": {
            "text/plain": [
              "(1000,)"
            ]
          },
          "metadata": {
            "tags": []
          },
          "execution_count": 4
        }
      ]
    },
    {
      "cell_type": "markdown",
      "metadata": {
        "id": "mZ-ZKfaHf_C6"
      },
      "source": [
        "## 2. Data split (80/20 ratio)"
      ]
    },
    {
      "cell_type": "markdown",
      "metadata": {
        "id": "7RLDMNMff_C7"
      },
      "source": [
        "### 2.1. Import library"
      ]
    },
    {
      "cell_type": "code",
      "metadata": {
        "id": "GTNOVTQof_C8"
      },
      "source": [
        "from sklearn.model_selection import train_test_split"
      ],
      "execution_count": null,
      "outputs": []
    },
    {
      "cell_type": "markdown",
      "metadata": {
        "id": "_dsct2Fyf_C9"
      },
      "source": [
        "### 2.2. Data split"
      ]
    },
    {
      "cell_type": "code",
      "metadata": {
        "id": "iSlD0bT3f_C9"
      },
      "source": [
        "X_train, X_test, Y_train, Y_test = train_test_split(X, Y, test_size=0.2)"
      ],
      "execution_count": null,
      "outputs": []
    },
    {
      "cell_type": "markdown",
      "metadata": {
        "id": "uDOICAhQf_C-"
      },
      "source": [
        "### 2.3. Let's examine the data dimension"
      ]
    },
    {
      "cell_type": "code",
      "metadata": {
        "id": "B6PbiQCUf_C-",
        "outputId": "786bd0c0-4d80-4f0a-c090-0ed10cd73302"
      },
      "source": [
        "X_train.shape, Y_train.shape"
      ],
      "execution_count": null,
      "outputs": [
        {
          "output_type": "execute_result",
          "data": {
            "text/plain": [
              "((800, 5), (800,))"
            ]
          },
          "metadata": {
            "tags": []
          },
          "execution_count": 7
        }
      ]
    },
    {
      "cell_type": "code",
      "metadata": {
        "id": "5RIJ5C08f_C-",
        "outputId": "ebda5697-280b-46ac-85d8-ecba7f591df2"
      },
      "source": [
        "X_test.shape, Y_test.shape"
      ],
      "execution_count": null,
      "outputs": [
        {
          "output_type": "execute_result",
          "data": {
            "text/plain": [
              "((200, 5), (200,))"
            ]
          },
          "metadata": {
            "tags": []
          },
          "execution_count": 8
        }
      ]
    },
    {
      "cell_type": "markdown",
      "metadata": {
        "id": "NYXEAfHAf_C_"
      },
      "source": [
        "## 3. Build Classification Models\n",
        "\n",
        "Modified from: https://scikit-learn.org/stable/auto_examples/classification/plot_classifier_comparison.html"
      ]
    },
    {
      "cell_type": "markdown",
      "metadata": {
        "id": "5n0knwJCf_C_"
      },
      "source": [
        "### 3.1. Import modules"
      ]
    },
    {
      "cell_type": "code",
      "metadata": {
        "id": "s8Lk3Daof_C_"
      },
      "source": [
        "import pandas as pd\n",
        "\n",
        "from sklearn.neural_network import MLPClassifier\n",
        "from sklearn.neighbors import KNeighborsClassifier\n",
        "from sklearn.svm import SVC\n",
        "from sklearn.gaussian_process import GaussianProcessClassifier\n",
        "from sklearn.ensemble import GradientBoostingClassifier\n",
        "from sklearn.gaussian_process.kernels import RBF\n",
        "from sklearn.tree import DecisionTreeClassifier\n",
        "from sklearn.ensemble import ExtraTreesClassifier\n",
        "from sklearn.ensemble import RandomForestClassifier, AdaBoostClassifier\n",
        "from sklearn.naive_bayes import GaussianNB\n",
        "from sklearn.discriminant_analysis import QuadraticDiscriminantAnalysis\n",
        "from sklearn.linear_model import SGDClassifier"
      ],
      "execution_count": null,
      "outputs": []
    },
    {
      "cell_type": "markdown",
      "metadata": {
        "id": "7jyI2-SUf_DA"
      },
      "source": [
        "### 3.2. Defining learning classifiers"
      ]
    },
    {
      "cell_type": "code",
      "metadata": {
        "id": "xewBdqQHf_DA"
      },
      "source": [
        "names = [\"Nearest_Neighbors\", \"Linear_SVM\", \"Polynomial_SVM\", \"RBF_SVM\", \"Gaussian_Process\",\n",
        "         \"Gradient_Boosting\", \"Decision_Tree\", \"Extra_Trees\", \"Random_Forest\", \"Neural_Net\", \"AdaBoost\",\n",
        "         \"Naive_Bayes\", \"QDA\", \"SGD\"]\n",
        "\n",
        "classifiers = [\n",
        "    KNeighborsClassifier(3),\n",
        "    SVC(kernel=\"linear\", C=0.025),\n",
        "    SVC(kernel=\"poly\", degree=3, C=0.025),\n",
        "    SVC(kernel=\"rbf\", C=1, gamma=2),\n",
        "    GaussianProcessClassifier(1.0 * RBF(1.0)),\n",
        "    GradientBoostingClassifier(n_estimators=100, learning_rate=1.0),\n",
        "    DecisionTreeClassifier(max_depth=5),\n",
        "    ExtraTreesClassifier(n_estimators=10, min_samples_split=2),\n",
        "    RandomForestClassifier(max_depth=5, n_estimators=100),\n",
        "    MLPClassifier(alpha=1, max_iter=1000),\n",
        "    AdaBoostClassifier(n_estimators=100),\n",
        "    GaussianNB(),\n",
        "    QuadraticDiscriminantAnalysis(),\n",
        "    SGDClassifier(loss=\"hinge\", penalty=\"l2\")]"
      ],
      "execution_count": null,
      "outputs": []
    },
    {
      "cell_type": "markdown",
      "metadata": {
        "id": "1xTbL7Umf_DA"
      },
      "source": [
        "### 3.3. Build Model, Apply Model on Test Data & Record Accuracy Scores"
      ]
    },
    {
      "cell_type": "code",
      "metadata": {
        "id": "jT2JWqpjf_DB"
      },
      "source": [
        "scores = []\n",
        "for name, clf in zip(names, classifiers):\n",
        "    clf.fit(X_train, Y_train)\n",
        "    score = clf.score(X_test, Y_test)\n",
        "    scores.append(score)"
      ],
      "execution_count": null,
      "outputs": []
    },
    {
      "cell_type": "code",
      "metadata": {
        "id": "i9E_nzmOf_DB",
        "outputId": "4dcc7c7a-c519-451a-df8d-83f084324b5b"
      },
      "source": [
        "scores"
      ],
      "execution_count": null,
      "outputs": [
        {
          "output_type": "execute_result",
          "data": {
            "text/plain": [
              "[0.79,\n",
              " 0.83,\n",
              " 0.785,\n",
              " 0.78,\n",
              " 0.845,\n",
              " 0.82,\n",
              " 0.83,\n",
              " 0.76,\n",
              " 0.83,\n",
              " 0.84,\n",
              " 0.86,\n",
              " 0.825,\n",
              " 0.82,\n",
              " 0.77]"
            ]
          },
          "metadata": {
            "tags": []
          },
          "execution_count": 12
        }
      ]
    },
    {
      "cell_type": "markdown",
      "metadata": {
        "id": "ZJJFMB3Jf_DC"
      },
      "source": [
        "## 4. Analysis of Model Performance"
      ]
    },
    {
      "cell_type": "markdown",
      "metadata": {
        "id": "ayfD-0uJf_DC"
      },
      "source": [
        "### 4.1. Import library"
      ]
    },
    {
      "cell_type": "code",
      "metadata": {
        "id": "Fewzk0imf_DE"
      },
      "source": [
        "import pandas as pd\n",
        "import seaborn as sns"
      ],
      "execution_count": null,
      "outputs": []
    },
    {
      "cell_type": "markdown",
      "metadata": {
        "id": "29-TrEuef_DE"
      },
      "source": [
        "### 4.2. Create data frame of *model performance*"
      ]
    },
    {
      "cell_type": "code",
      "metadata": {
        "id": "5wseG2_of_DJ",
        "outputId": "27582624-66dd-4396-bd54-681a224c9724"
      },
      "source": [
        "df = pd.DataFrame()\n",
        "df['name'] = names\n",
        "df['score'] = scores\n",
        "df"
      ],
      "execution_count": null,
      "outputs": [
        {
          "output_type": "execute_result",
          "data": {
            "text/html": [
              "<div>\n",
              "<style scoped>\n",
              "    .dataframe tbody tr th:only-of-type {\n",
              "        vertical-align: middle;\n",
              "    }\n",
              "\n",
              "    .dataframe tbody tr th {\n",
              "        vertical-align: top;\n",
              "    }\n",
              "\n",
              "    .dataframe thead th {\n",
              "        text-align: right;\n",
              "    }\n",
              "</style>\n",
              "<table border=\"1\" class=\"dataframe\">\n",
              "  <thead>\n",
              "    <tr style=\"text-align: right;\">\n",
              "      <th></th>\n",
              "      <th>name</th>\n",
              "      <th>score</th>\n",
              "    </tr>\n",
              "  </thead>\n",
              "  <tbody>\n",
              "    <tr>\n",
              "      <th>0</th>\n",
              "      <td>Nearest_Neighbors</td>\n",
              "      <td>0.790</td>\n",
              "    </tr>\n",
              "    <tr>\n",
              "      <th>1</th>\n",
              "      <td>Linear_SVM</td>\n",
              "      <td>0.830</td>\n",
              "    </tr>\n",
              "    <tr>\n",
              "      <th>2</th>\n",
              "      <td>Polynomial_SVM</td>\n",
              "      <td>0.785</td>\n",
              "    </tr>\n",
              "    <tr>\n",
              "      <th>3</th>\n",
              "      <td>RBF_SVM</td>\n",
              "      <td>0.780</td>\n",
              "    </tr>\n",
              "    <tr>\n",
              "      <th>4</th>\n",
              "      <td>Gaussian_Process</td>\n",
              "      <td>0.845</td>\n",
              "    </tr>\n",
              "    <tr>\n",
              "      <th>5</th>\n",
              "      <td>Gradient_Boosting</td>\n",
              "      <td>0.820</td>\n",
              "    </tr>\n",
              "    <tr>\n",
              "      <th>6</th>\n",
              "      <td>Decision_Tree</td>\n",
              "      <td>0.830</td>\n",
              "    </tr>\n",
              "    <tr>\n",
              "      <th>7</th>\n",
              "      <td>Extra_Trees</td>\n",
              "      <td>0.760</td>\n",
              "    </tr>\n",
              "    <tr>\n",
              "      <th>8</th>\n",
              "      <td>Random_Forest</td>\n",
              "      <td>0.830</td>\n",
              "    </tr>\n",
              "    <tr>\n",
              "      <th>9</th>\n",
              "      <td>Neural_Net</td>\n",
              "      <td>0.840</td>\n",
              "    </tr>\n",
              "    <tr>\n",
              "      <th>10</th>\n",
              "      <td>AdaBoost</td>\n",
              "      <td>0.860</td>\n",
              "    </tr>\n",
              "    <tr>\n",
              "      <th>11</th>\n",
              "      <td>Naive_Bayes</td>\n",
              "      <td>0.825</td>\n",
              "    </tr>\n",
              "    <tr>\n",
              "      <th>12</th>\n",
              "      <td>QDA</td>\n",
              "      <td>0.820</td>\n",
              "    </tr>\n",
              "    <tr>\n",
              "      <th>13</th>\n",
              "      <td>SGD</td>\n",
              "      <td>0.770</td>\n",
              "    </tr>\n",
              "  </tbody>\n",
              "</table>\n",
              "</div>"
            ],
            "text/plain": [
              "                 name  score\n",
              "0   Nearest_Neighbors  0.790\n",
              "1          Linear_SVM  0.830\n",
              "2      Polynomial_SVM  0.785\n",
              "3             RBF_SVM  0.780\n",
              "4    Gaussian_Process  0.845\n",
              "5   Gradient_Boosting  0.820\n",
              "6       Decision_Tree  0.830\n",
              "7         Extra_Trees  0.760\n",
              "8       Random_Forest  0.830\n",
              "9          Neural_Net  0.840\n",
              "10           AdaBoost  0.860\n",
              "11        Naive_Bayes  0.825\n",
              "12                QDA  0.820\n",
              "13                SGD  0.770"
            ]
          },
          "metadata": {
            "tags": []
          },
          "execution_count": 14
        }
      ]
    },
    {
      "cell_type": "markdown",
      "metadata": {
        "id": "ad070iFhf_DJ"
      },
      "source": [
        "### 4.3. Adding colors to the data frame"
      ]
    },
    {
      "cell_type": "code",
      "metadata": {
        "scrolled": true,
        "id": "TNdYzX9Yf_DK",
        "outputId": "d31f35a4-51bd-458a-9b1b-df656853010c"
      },
      "source": [
        "#https://pandas.pydata.org/pandas-docs/stable/user_guide/style.html\n",
        "\n",
        "cm = sns.light_palette(\"green\", as_cmap=True)\n",
        "s = df.style.background_gradient(cmap=cm)\n",
        "s"
      ],
      "execution_count": null,
      "outputs": [
        {
          "output_type": "execute_result",
          "data": {
            "text/html": [
              "<style  type=\"text/css\" >\n",
              "    #T_875c8232_66ce_11ea_9c0a_acde48001122row0_col1 {\n",
              "            background-color:  #a1d9a1;\n",
              "            color:  #000000;\n",
              "        }    #T_875c8232_66ce_11ea_9c0a_acde48001122row1_col1 {\n",
              "            background-color:  #44a644;\n",
              "            color:  #000000;\n",
              "        }    #T_875c8232_66ce_11ea_9c0a_acde48001122row2_col1 {\n",
              "            background-color:  #acdfac;\n",
              "            color:  #000000;\n",
              "        }    #T_875c8232_66ce_11ea_9c0a_acde48001122row3_col1 {\n",
              "            background-color:  #b8e6b8;\n",
              "            color:  #000000;\n",
              "        }    #T_875c8232_66ce_11ea_9c0a_acde48001122row4_col1 {\n",
              "            background-color:  #229322;\n",
              "            color:  #000000;\n",
              "        }    #T_875c8232_66ce_11ea_9c0a_acde48001122row5_col1 {\n",
              "            background-color:  #5cb35c;\n",
              "            color:  #000000;\n",
              "        }    #T_875c8232_66ce_11ea_9c0a_acde48001122row6_col1 {\n",
              "            background-color:  #44a644;\n",
              "            color:  #000000;\n",
              "        }    #T_875c8232_66ce_11ea_9c0a_acde48001122row7_col1 {\n",
              "            background-color:  #e5ffe5;\n",
              "            color:  #000000;\n",
              "        }    #T_875c8232_66ce_11ea_9c0a_acde48001122row8_col1 {\n",
              "            background-color:  #44a644;\n",
              "            color:  #000000;\n",
              "        }    #T_875c8232_66ce_11ea_9c0a_acde48001122row9_col1 {\n",
              "            background-color:  #2e992e;\n",
              "            color:  #000000;\n",
              "        }    #T_875c8232_66ce_11ea_9c0a_acde48001122row10_col1 {\n",
              "            background-color:  #008000;\n",
              "            color:  #f1f1f1;\n",
              "        }    #T_875c8232_66ce_11ea_9c0a_acde48001122row11_col1 {\n",
              "            background-color:  #50ac50;\n",
              "            color:  #000000;\n",
              "        }    #T_875c8232_66ce_11ea_9c0a_acde48001122row12_col1 {\n",
              "            background-color:  #5cb35c;\n",
              "            color:  #000000;\n",
              "        }    #T_875c8232_66ce_11ea_9c0a_acde48001122row13_col1 {\n",
              "            background-color:  #cff3cf;\n",
              "            color:  #000000;\n",
              "        }</style><table id=\"T_875c8232_66ce_11ea_9c0a_acde48001122\" ><thead>    <tr>        <th class=\"blank level0\" ></th>        <th class=\"col_heading level0 col0\" >name</th>        <th class=\"col_heading level0 col1\" >score</th>    </tr></thead><tbody>\n",
              "                <tr>\n",
              "                        <th id=\"T_875c8232_66ce_11ea_9c0a_acde48001122level0_row0\" class=\"row_heading level0 row0\" >0</th>\n",
              "                        <td id=\"T_875c8232_66ce_11ea_9c0a_acde48001122row0_col0\" class=\"data row0 col0\" >Nearest_Neighbors</td>\n",
              "                        <td id=\"T_875c8232_66ce_11ea_9c0a_acde48001122row0_col1\" class=\"data row0 col1\" >0.790000</td>\n",
              "            </tr>\n",
              "            <tr>\n",
              "                        <th id=\"T_875c8232_66ce_11ea_9c0a_acde48001122level0_row1\" class=\"row_heading level0 row1\" >1</th>\n",
              "                        <td id=\"T_875c8232_66ce_11ea_9c0a_acde48001122row1_col0\" class=\"data row1 col0\" >Linear_SVM</td>\n",
              "                        <td id=\"T_875c8232_66ce_11ea_9c0a_acde48001122row1_col1\" class=\"data row1 col1\" >0.830000</td>\n",
              "            </tr>\n",
              "            <tr>\n",
              "                        <th id=\"T_875c8232_66ce_11ea_9c0a_acde48001122level0_row2\" class=\"row_heading level0 row2\" >2</th>\n",
              "                        <td id=\"T_875c8232_66ce_11ea_9c0a_acde48001122row2_col0\" class=\"data row2 col0\" >Polynomial_SVM</td>\n",
              "                        <td id=\"T_875c8232_66ce_11ea_9c0a_acde48001122row2_col1\" class=\"data row2 col1\" >0.785000</td>\n",
              "            </tr>\n",
              "            <tr>\n",
              "                        <th id=\"T_875c8232_66ce_11ea_9c0a_acde48001122level0_row3\" class=\"row_heading level0 row3\" >3</th>\n",
              "                        <td id=\"T_875c8232_66ce_11ea_9c0a_acde48001122row3_col0\" class=\"data row3 col0\" >RBF_SVM</td>\n",
              "                        <td id=\"T_875c8232_66ce_11ea_9c0a_acde48001122row3_col1\" class=\"data row3 col1\" >0.780000</td>\n",
              "            </tr>\n",
              "            <tr>\n",
              "                        <th id=\"T_875c8232_66ce_11ea_9c0a_acde48001122level0_row4\" class=\"row_heading level0 row4\" >4</th>\n",
              "                        <td id=\"T_875c8232_66ce_11ea_9c0a_acde48001122row4_col0\" class=\"data row4 col0\" >Gaussian_Process</td>\n",
              "                        <td id=\"T_875c8232_66ce_11ea_9c0a_acde48001122row4_col1\" class=\"data row4 col1\" >0.845000</td>\n",
              "            </tr>\n",
              "            <tr>\n",
              "                        <th id=\"T_875c8232_66ce_11ea_9c0a_acde48001122level0_row5\" class=\"row_heading level0 row5\" >5</th>\n",
              "                        <td id=\"T_875c8232_66ce_11ea_9c0a_acde48001122row5_col0\" class=\"data row5 col0\" >Gradient_Boosting</td>\n",
              "                        <td id=\"T_875c8232_66ce_11ea_9c0a_acde48001122row5_col1\" class=\"data row5 col1\" >0.820000</td>\n",
              "            </tr>\n",
              "            <tr>\n",
              "                        <th id=\"T_875c8232_66ce_11ea_9c0a_acde48001122level0_row6\" class=\"row_heading level0 row6\" >6</th>\n",
              "                        <td id=\"T_875c8232_66ce_11ea_9c0a_acde48001122row6_col0\" class=\"data row6 col0\" >Decision_Tree</td>\n",
              "                        <td id=\"T_875c8232_66ce_11ea_9c0a_acde48001122row6_col1\" class=\"data row6 col1\" >0.830000</td>\n",
              "            </tr>\n",
              "            <tr>\n",
              "                        <th id=\"T_875c8232_66ce_11ea_9c0a_acde48001122level0_row7\" class=\"row_heading level0 row7\" >7</th>\n",
              "                        <td id=\"T_875c8232_66ce_11ea_9c0a_acde48001122row7_col0\" class=\"data row7 col0\" >Extra_Trees</td>\n",
              "                        <td id=\"T_875c8232_66ce_11ea_9c0a_acde48001122row7_col1\" class=\"data row7 col1\" >0.760000</td>\n",
              "            </tr>\n",
              "            <tr>\n",
              "                        <th id=\"T_875c8232_66ce_11ea_9c0a_acde48001122level0_row8\" class=\"row_heading level0 row8\" >8</th>\n",
              "                        <td id=\"T_875c8232_66ce_11ea_9c0a_acde48001122row8_col0\" class=\"data row8 col0\" >Random_Forest</td>\n",
              "                        <td id=\"T_875c8232_66ce_11ea_9c0a_acde48001122row8_col1\" class=\"data row8 col1\" >0.830000</td>\n",
              "            </tr>\n",
              "            <tr>\n",
              "                        <th id=\"T_875c8232_66ce_11ea_9c0a_acde48001122level0_row9\" class=\"row_heading level0 row9\" >9</th>\n",
              "                        <td id=\"T_875c8232_66ce_11ea_9c0a_acde48001122row9_col0\" class=\"data row9 col0\" >Neural_Net</td>\n",
              "                        <td id=\"T_875c8232_66ce_11ea_9c0a_acde48001122row9_col1\" class=\"data row9 col1\" >0.840000</td>\n",
              "            </tr>\n",
              "            <tr>\n",
              "                        <th id=\"T_875c8232_66ce_11ea_9c0a_acde48001122level0_row10\" class=\"row_heading level0 row10\" >10</th>\n",
              "                        <td id=\"T_875c8232_66ce_11ea_9c0a_acde48001122row10_col0\" class=\"data row10 col0\" >AdaBoost</td>\n",
              "                        <td id=\"T_875c8232_66ce_11ea_9c0a_acde48001122row10_col1\" class=\"data row10 col1\" >0.860000</td>\n",
              "            </tr>\n",
              "            <tr>\n",
              "                        <th id=\"T_875c8232_66ce_11ea_9c0a_acde48001122level0_row11\" class=\"row_heading level0 row11\" >11</th>\n",
              "                        <td id=\"T_875c8232_66ce_11ea_9c0a_acde48001122row11_col0\" class=\"data row11 col0\" >Naive_Bayes</td>\n",
              "                        <td id=\"T_875c8232_66ce_11ea_9c0a_acde48001122row11_col1\" class=\"data row11 col1\" >0.825000</td>\n",
              "            </tr>\n",
              "            <tr>\n",
              "                        <th id=\"T_875c8232_66ce_11ea_9c0a_acde48001122level0_row12\" class=\"row_heading level0 row12\" >12</th>\n",
              "                        <td id=\"T_875c8232_66ce_11ea_9c0a_acde48001122row12_col0\" class=\"data row12 col0\" >QDA</td>\n",
              "                        <td id=\"T_875c8232_66ce_11ea_9c0a_acde48001122row12_col1\" class=\"data row12 col1\" >0.820000</td>\n",
              "            </tr>\n",
              "            <tr>\n",
              "                        <th id=\"T_875c8232_66ce_11ea_9c0a_acde48001122level0_row13\" class=\"row_heading level0 row13\" >13</th>\n",
              "                        <td id=\"T_875c8232_66ce_11ea_9c0a_acde48001122row13_col0\" class=\"data row13 col0\" >SGD</td>\n",
              "                        <td id=\"T_875c8232_66ce_11ea_9c0a_acde48001122row13_col1\" class=\"data row13 col1\" >0.770000</td>\n",
              "            </tr>\n",
              "    </tbody></table>"
            ],
            "text/plain": [
              "<pandas.io.formats.style.Styler at 0x1a25361410>"
            ]
          },
          "metadata": {
            "tags": []
          },
          "execution_count": 15
        }
      ]
    },
    {
      "cell_type": "markdown",
      "metadata": {
        "id": "vqN7VXxhf_DK"
      },
      "source": [
        "### 4.4. Bar plot of model performance"
      ]
    },
    {
      "cell_type": "code",
      "metadata": {
        "scrolled": true,
        "id": "282UI0_Nf_DK",
        "outputId": "e680eef7-bd36-4fb6-90b5-cd6be9fbead8"
      },
      "source": [
        "sns.set(style=\"whitegrid\")\n",
        "ax = sns.barplot(y=\"name\", x=\"score\", data=df)"
      ],
      "execution_count": null,
      "outputs": [
        {
          "output_type": "display_data",
          "data": {
            "image/png": "[encoded data removed]",
            "text/plain": [
              "<Figure size 432x288 with 1 Axes>"
            ]
          },
          "metadata": {
            "tags": []
          }
        }
      ]
    },
    {
      "cell_type": "markdown",
      "metadata": {
        "id": "d7j5CqNZf_DL"
      },
      "source": [
        "---"
      ]
    }
  ]
}