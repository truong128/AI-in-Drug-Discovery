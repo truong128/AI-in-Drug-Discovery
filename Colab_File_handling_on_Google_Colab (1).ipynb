{
  "nbformat": 4,
  "nbformat_minor": 0,
  "metadata": {
    "colab": {
      "name": "Colab_File_handling_on_Google_Colab.ipynb",
      "provenance": [],
      "collapsed_sections": []
    },
    "kernelspec": {
      "name": "python3",
      "display_name": "Python 3"
    }
  },
  "cells": [
    {
      "cell_type": "markdown",
      "metadata": {
        "id": "xj6gtR2npz-9"
      },
      "source": [
        "# **File Handling on Google Colab**\n",
        "\n",
        "Chanin Nantasenamat\n",
        "\n",
        "[*'Data Professor' YouTube channel*](http://youtube.com/dataprofessor)\n",
        "\n",
        "In this Jupyter notebook, I will be showing you how to access Google Drive from within Google Colab where you will be able to read, write, copy, move and download files.\n",
        "\n",
        "---"
      ]
    },
    {
      "cell_type": "markdown",
      "metadata": {
        "id": "0C50Skpoh2bk"
      },
      "source": [
        "## **Mounting the Google Drive into Google Colab**"
      ]
    },
    {
      "cell_type": "code",
      "metadata": {
        "id": "eMT98FiBce9k",
        "colab": {
          "base_uri": "https://localhost:8080/",
          "height": 122
        },
        "outputId": "3ec5f8b7-8495-42ff-cc97-6144011ba0f4"
      },
      "source": [
        "from google.colab import drive\n",
        "drive.mount('/content/gdrive/', force_remount=True)"
      ],
      "execution_count": null,
      "outputs": [
        {
          "output_type": "stream",
          "text": [
            "Go to this URL in a browser: https://accounts.google.com/o/oauth2/auth?client_id=947318989803-6bn6qk8qdgf4n4g3pfee6491hc0brc4i.apps.googleusercontent.com&redirect_uri=urn%3aietf%3awg%3aoauth%3a2.0%3aoob&response_type=code&scope=email%20https%3a%2f%2fwww.googleapis.com%2fauth%2fdocs.test%20https%3a%2f%2fwww.googleapis.com%2fauth%2fdrive%20https%3a%2f%2fwww.googleapis.com%2fauth%2fdrive.photos.readonly%20https%3a%2f%2fwww.googleapis.com%2fauth%2fpeopleapi.readonly\n",
            "\n",
            "Enter your authorization code:\n",
            "··········\n",
            "Mounted at /content/gdrive/\n"
          ],
          "name": "stdout"
        }
      ]
    },
    {
      "cell_type": "markdown",
      "metadata": {
        "id": "omD1kWdOXPx1"
      },
      "source": [
        "## **List content of directory**"
      ]
    },
    {
      "cell_type": "markdown",
      "metadata": {
        "id": "RSfn-FQapZDs"
      },
      "source": [
        "Using the ***ls*** command we list the contents of the current working directory. We can see the newly created files. "
      ]
    },
    {
      "cell_type": "code",
      "metadata": {
        "id": "wKfMmkeqhjQ-",
        "colab": {
          "base_uri": "https://localhost:8080/",
          "height": 34
        },
        "outputId": "b9fd745c-77d8-4c6a-e566-5019e3fdc7cc"
      },
      "source": [
        "! ls"
      ],
      "execution_count": null,
      "outputs": [
        {
          "output_type": "stream",
          "text": [
            "gdrive\tsample_data\n"
          ],
          "name": "stdout"
        }
      ]
    },
    {
      "cell_type": "markdown",
      "metadata": {
        "id": "XRGN-k3raOZ3"
      },
      "source": [
        "To show more details, let's add the -l option."
      ]
    },
    {
      "cell_type": "code",
      "metadata": {
        "id": "Bu6am47YaR1s",
        "colab": {
          "base_uri": "https://localhost:8080/",
          "height": 68
        },
        "outputId": "733cb020-a77a-4cde-8898-dd51c89243c6"
      },
      "source": [
        "! ls -l"
      ],
      "execution_count": null,
      "outputs": [
        {
          "output_type": "stream",
          "text": [
            "total 8\n",
            "drwx------ 4 root root 4096 Mar 27 10:55 gdrive\n",
            "drwxr-xr-x 1 root root 4096 Mar 18 16:23 sample_data\n"
          ],
          "name": "stdout"
        }
      ]
    },
    {
      "cell_type": "markdown",
      "metadata": {
        "id": "ZFl09CFwZYO2"
      },
      "source": [
        "## **Create a directory**"
      ]
    },
    {
      "cell_type": "markdown",
      "metadata": {
        "id": "SgfW-5A6Zx5s"
      },
      "source": [
        "Use the **mkdir** command to create a directory in the Bash command line."
      ]
    },
    {
      "cell_type": "code",
      "metadata": {
        "id": "QEuhC1Q5Z5sr"
      },
      "source": [
        "! mkdir compiled_data"
      ],
      "execution_count": null,
      "outputs": []
    },
    {
      "cell_type": "markdown",
      "metadata": {
        "id": "Q0CYpZJpaCgj"
      },
      "source": [
        "Now, let's look for the newly created directory."
      ]
    },
    {
      "cell_type": "code",
      "metadata": {
        "id": "ILd-IS8uaGkq",
        "colab": {
          "base_uri": "https://localhost:8080/",
          "height": 34
        },
        "outputId": "2e28229a-2c12-47e3-df71-d4c1e8070c08"
      },
      "source": [
        "! ls"
      ],
      "execution_count": null,
      "outputs": [
        {
          "output_type": "stream",
          "text": [
            "compiled_data  gdrive  sample_data\n"
          ],
          "name": "stdout"
        }
      ]
    },
    {
      "cell_type": "markdown",
      "metadata": {
        "id": "CtVrSwQIiK6D"
      },
      "source": [
        "## **Create files**"
      ]
    },
    {
      "cell_type": "markdown",
      "metadata": {
        "id": "Pahn3LVxXB1f"
      },
      "source": [
        "### **Create files in Bash command line**"
      ]
    },
    {
      "cell_type": "markdown",
      "metadata": {
        "id": "rZy6YSb7pREs"
      },
      "source": [
        "Creating a simple text file from the **Bash** command line."
      ]
    },
    {
      "cell_type": "code",
      "metadata": {
        "id": "2eSjimJFcf2q"
      },
      "source": [
        "! echo \"The quick brown fox jumped over the lazy cat.\" > data.txt"
      ],
      "execution_count": null,
      "outputs": []
    },
    {
      "cell_type": "markdown",
      "metadata": {
        "id": "gKuA8ygvXLDU"
      },
      "source": [
        "### **Create files in Python**"
      ]
    },
    {
      "cell_type": "markdown",
      "metadata": {
        "id": "MFw1fNiwqKXM"
      },
      "source": [
        "Create a simple text file from within **Python**."
      ]
    },
    {
      "cell_type": "code",
      "metadata": {
        "id": "M3Z-aazjqPyx"
      },
      "source": [
        "data2 = open(\"data2.txt\", \"w\")\n",
        "data2.write(\"The quick brown fox jumped over the lazy cat.\")\n",
        "data2.close()"
      ],
      "execution_count": null,
      "outputs": []
    },
    {
      "cell_type": "markdown",
      "metadata": {
        "id": "0RVb2q3VXTWb"
      },
      "source": [
        "### **Download files from the Internet**"
      ]
    },
    {
      "cell_type": "markdown",
      "metadata": {
        "id": "D343r_PnXY0R"
      },
      "source": [
        "We will be downloading some data from the Data Professor GitHub."
      ]
    },
    {
      "cell_type": "code",
      "metadata": {
        "id": "4T_eKNvTXeYP",
        "colab": {
          "base_uri": "https://localhost:8080/",
          "height": 289
        },
        "outputId": "dd4bcd0b-347d-4971-8572-72a627e76a4e"
      },
      "source": [
        "! wget https://github.com/dataprofessor/data/raw/master/weather-weka.csv"
      ],
      "execution_count": null,
      "outputs": [
        {
          "output_type": "stream",
          "text": [
            "--2020-03-27 11:01:01--  https://github.com/dataprofessor/data/raw/master/weather-weka.csv\n",
            "Resolving github.com (github.com)... 140.82.114.3\n",
            "Connecting to github.com (github.com)|140.82.114.3|:443... connected.\n",
            "HTTP request sent, awaiting response... 302 Found\n",
            "Location: https://raw.githubusercontent.com/dataprofessor/data/master/weather-weka.csv [following]\n",
            "--2020-03-27 11:01:01--  https://raw.githubusercontent.com/dataprofessor/data/master/weather-weka.csv\n",
            "Resolving raw.githubusercontent.com (raw.githubusercontent.com)... 151.101.0.133, 151.101.64.133, 151.101.128.133, ...\n",
            "Connecting to raw.githubusercontent.com (raw.githubusercontent.com)|151.101.0.133|:443... connected.\n",
            "HTTP request sent, awaiting response... 200 OK\n",
            "Length: 362 [text/plain]\n",
            "Saving to: ‘weather-weka.csv’\n",
            "\n",
            "weather-weka.csv    100%[===================>]     362  --.-KB/s    in 0s      \n",
            "\n",
            "2020-03-27 11:01:02 (70.0 MB/s) - ‘weather-weka.csv’ saved [362/362]\n",
            "\n"
          ],
          "name": "stdout"
        }
      ]
    },
    {
      "cell_type": "code",
      "metadata": {
        "id": "yeAIbW3DJsD5",
        "colab": {
          "base_uri": "https://localhost:8080/",
          "height": 136
        },
        "outputId": "3fb13767-b540-446b-cb95-8b29111a94d2"
      },
      "source": [
        "! ls -l"
      ],
      "execution_count": null,
      "outputs": [
        {
          "output_type": "stream",
          "text": [
            "total 24\n",
            "drwxr-xr-x 2 root root 4096 Mar 27 10:57 compiled_data\n",
            "-rw-r--r-- 1 root root   45 Mar 27 11:00 data2.txt\n",
            "-rw-r--r-- 1 root root   46 Mar 27 10:58 data.txt\n",
            "drwx------ 4 root root 4096 Mar 27 10:55 gdrive\n",
            "drwxr-xr-x 1 root root 4096 Mar 18 16:23 sample_data\n",
            "-rw-r--r-- 1 root root  362 Mar 27 11:01 weather-weka.csv\n"
          ],
          "name": "stdout"
        }
      ]
    },
    {
      "cell_type": "markdown",
      "metadata": {
        "id": "MgZ_RD3ArLFb"
      },
      "source": [
        "## **Read files**"
      ]
    },
    {
      "cell_type": "markdown",
      "metadata": {
        "id": "UDWGX0FOWAd5"
      },
      "source": [
        "### **Read files in Bash command line**"
      ]
    },
    {
      "cell_type": "markdown",
      "metadata": {
        "id": "A6VGa8GsrAwT"
      },
      "source": [
        "Using the ***cat*** command, we display the contents of the newly created files."
      ]
    },
    {
      "cell_type": "code",
      "metadata": {
        "id": "Pw6kn3PbgAc0",
        "colab": {
          "base_uri": "https://localhost:8080/",
          "height": 34
        },
        "outputId": "fe563bcf-b601-4f50-b887-fbd10f71843b"
      },
      "source": [
        "! cat data.txt"
      ],
      "execution_count": null,
      "outputs": [
        {
          "output_type": "stream",
          "text": [
            "The quick brown fox jumped over the lazy cat.\n"
          ],
          "name": "stdout"
        }
      ]
    },
    {
      "cell_type": "code",
      "metadata": {
        "id": "CAk684YUq7py",
        "colab": {
          "base_uri": "https://localhost:8080/",
          "height": 34
        },
        "outputId": "165dfc9f-8918-43ee-942b-fa0ed911b01c"
      },
      "source": [
        "! cat data2.txt"
      ],
      "execution_count": null,
      "outputs": [
        {
          "output_type": "stream",
          "text": [
            "The quick brown fox jumped over the lazy cat."
          ],
          "name": "stdout"
        }
      ]
    },
    {
      "cell_type": "markdown",
      "metadata": {
        "id": "c3eJ9_vhWFun"
      },
      "source": [
        "### **Read files in Python**"
      ]
    },
    {
      "cell_type": "code",
      "metadata": {
        "id": "ILDAnymetMiC"
      },
      "source": [
        "data = open(\"data.txt\", \"r\")"
      ],
      "execution_count": null,
      "outputs": []
    },
    {
      "cell_type": "code",
      "metadata": {
        "id": "YT779mPDtMk9"
      },
      "source": [
        "data_content = data.read()"
      ],
      "execution_count": null,
      "outputs": []
    },
    {
      "cell_type": "code",
      "metadata": {
        "id": "NFTeqXgLtMnm",
        "colab": {
          "base_uri": "https://localhost:8080/",
          "height": 34
        },
        "outputId": "a9096b25-ebdc-4da7-d2ea-0f82c7d95423"
      },
      "source": [
        "data_content"
      ],
      "execution_count": null,
      "outputs": [
        {
          "output_type": "execute_result",
          "data": {
            "text/plain": [
              "'The quick brown fox jumped over the lazy cat.\\n'"
            ]
          },
          "metadata": {
            "tags": []
          },
          "execution_count": 16
        }
      ]
    },
    {
      "cell_type": "code",
      "metadata": {
        "id": "7gY0uU42tMqG",
        "colab": {
          "base_uri": "https://localhost:8080/",
          "height": 34
        },
        "outputId": "2083a352-f7e4-4604-9d7c-ab86b50f90eb"
      },
      "source": [
        "data_content.strip('\\n')"
      ],
      "execution_count": null,
      "outputs": [
        {
          "output_type": "execute_result",
          "data": {
            "text/plain": [
              "'The quick brown fox jumped over the lazy cat.'"
            ]
          },
          "metadata": {
            "tags": []
          },
          "execution_count": 17
        }
      ]
    },
    {
      "cell_type": "markdown",
      "metadata": {
        "id": "G_yHlEj2uA_0"
      },
      "source": [
        "## **Accessing the Google Drive from Google Colab**"
      ]
    },
    {
      "cell_type": "markdown",
      "metadata": {
        "id": "rkKpnyeWhrw0"
      },
      "source": [
        "Let's look at the contents of the **\"Colab Notebooks\"** folder in our Google Drive."
      ]
    },
    {
      "cell_type": "code",
      "metadata": {
        "id": "2LazNaJ2tMs7",
        "colab": {
          "base_uri": "https://localhost:8080/",
          "height": 102
        },
        "outputId": "bd2b7a8e-64fe-487f-ee07-3eb92da4f104"
      },
      "source": [
        "! ls \"/content/gdrive/My Drive/Colab Notebooks/\""
      ],
      "execution_count": null,
      "outputs": [
        {
          "output_type": "stream",
          "text": [
            "CDD-ML-Part-1-chembl.ipynb\t\t   data\n",
            "CDD-ML-Part-2-rdkit.ipynb\t\t   hyperparameter-tuning.ipynb\n",
            "CDD-molecular-visualization.ipynb\t   My-First-Notebook.ipynb\n",
            "CDD-protein-ligand-docking.ipynb\t   progress_bar.ipynb\n",
            "Colab_File_handling_on_Google_Colab.ipynb  Untitled0.ipynb\n"
          ],
          "name": "stdout"
        }
      ]
    },
    {
      "cell_type": "markdown",
      "metadata": {
        "id": "Gb4vXWllwFXf"
      },
      "source": [
        "## **Copy files from Google Drive into your Google Colab**"
      ]
    },
    {
      "cell_type": "markdown",
      "metadata": {
        "id": "l2UFIuaE3jRR"
      },
      "source": [
        "We should be aware that contents of the Colab working directory will automatically be removed when the session ends. The path of the Colab working directory can be shown by using the **pwd** command."
      ]
    },
    {
      "cell_type": "code",
      "metadata": {
        "id": "xwmZCps_3j7o"
      },
      "source": [
        "! pwd"
      ],
      "execution_count": null,
      "outputs": []
    },
    {
      "cell_type": "markdown",
      "metadata": {
        "id": "5NVKq_hyzo3Q"
      },
      "source": [
        "In the forthcoming cells, I will copy some files from a directory called **\"dataset\"** from my **Google Drive** to the Google Colab.\n",
        "\n",
        "Lists the content of the **\"dataset\"** directory in my Google Drive. \n",
        "\n",
        "(Note: Replace **\"dataset\"** with the name of your own directory on your Google Drive.)"
      ]
    },
    {
      "cell_type": "code",
      "metadata": {
        "id": "2amwj62HuoBW",
        "colab": {
          "base_uri": "https://localhost:8080/",
          "height": 34
        },
        "outputId": "4c9696de-97fb-4958-e5d8-c510614e5b5c"
      },
      "source": [
        "! ls \"/content/gdrive/My Drive/dataset/\""
      ],
      "execution_count": null,
      "outputs": [
        {
          "output_type": "stream",
          "text": [
            "dhfr.csv\n"
          ],
          "name": "stdout"
        }
      ]
    },
    {
      "cell_type": "markdown",
      "metadata": {
        "id": "SMbeV6T6zfTz"
      },
      "source": [
        "Google Drive does not seem to allow changing to the directory."
      ]
    },
    {
      "cell_type": "code",
      "metadata": {
        "id": "pBExy1lfwgP3",
        "colab": {
          "base_uri": "https://localhost:8080/",
          "height": 34
        },
        "outputId": "e75b8b0e-02f0-4a2f-85a3-cd34cb4cbffd"
      },
      "source": [
        "! cd \"/content/gdrive/My Drive/dataset/\"\n",
        "! pwd"
      ],
      "execution_count": null,
      "outputs": [
        {
          "output_type": "stream",
          "text": [
            "/content\n"
          ],
          "name": "stdout"
        }
      ]
    },
    {
      "cell_type": "markdown",
      "metadata": {
        "id": "RHxAjJbq1Opc"
      },
      "source": [
        "List the contents of current working directory. Make note that the dhfr.csv file is not found here."
      ]
    },
    {
      "cell_type": "code",
      "metadata": {
        "id": "mVsHWMmO1EfJ",
        "colab": {
          "base_uri": "https://localhost:8080/",
          "height": 34
        },
        "outputId": "94453f43-da7a-4db8-c47b-ebf215b04366"
      },
      "source": [
        "! ls"
      ],
      "execution_count": null,
      "outputs": [
        {
          "output_type": "stream",
          "text": [
            "compiled_data  data2.txt  data.txt  gdrive  sample_data  weather-weka.csv\n"
          ],
          "name": "stdout"
        }
      ]
    },
    {
      "cell_type": "markdown",
      "metadata": {
        "id": "-OWQkr6ez30E"
      },
      "source": [
        "Let's directly copy files from the **Google Drive** to **Colab working directory**. The full path to the dhfr.csv file on my Google Drive is at \"/content/gdrive/My Drive/dataset/dhfr.csv\" while the \".\" refers to the current working directory of Colab.\n",
        "\n",
        "(Note: Replace **\"dataset\"** with the name of your own directory on your Google Drive.) *italicized text*"
      ]
    },
    {
      "cell_type": "code",
      "metadata": {
        "id": "p9KJ90ykw47H"
      },
      "source": [
        "! cp \"/content/gdrive/My Drive/dataset/dhfr.csv\" ."
      ],
      "execution_count": null,
      "outputs": []
    },
    {
      "cell_type": "markdown",
      "metadata": {
        "id": "fXoMpiTT1Wxt"
      },
      "source": [
        "List the contents of current working directory again. As we had just copied the **dhfr.csv** file from the Google Drive into the current working directory, we should now see **dhfr.csv** file in here."
      ]
    },
    {
      "cell_type": "code",
      "metadata": {
        "id": "WBHvUy6c0LLE",
        "colab": {
          "base_uri": "https://localhost:8080/",
          "height": 51
        },
        "outputId": "a1bd50a2-1bbd-4b96-cc7f-6fe8ad9f532f"
      },
      "source": [
        "! ls"
      ],
      "execution_count": null,
      "outputs": [
        {
          "output_type": "stream",
          "text": [
            "compiled_data  data.txt  gdrive       weather-weka.csv\n",
            "data2.txt      dhfr.csv  sample_data\n"
          ],
          "name": "stdout"
        }
      ]
    },
    {
      "cell_type": "markdown",
      "metadata": {
        "id": "J62TkObMaFqn"
      },
      "source": [
        "## **Current working directory**"
      ]
    },
    {
      "cell_type": "code",
      "metadata": {
        "id": "XGoohhspZ9qx",
        "colab": {
          "base_uri": "https://localhost:8080/",
          "height": 34
        },
        "outputId": "53c696d0-cc93-4508-ad9c-7f38116f63ec"
      },
      "source": [
        "! pwd"
      ],
      "execution_count": null,
      "outputs": [
        {
          "output_type": "stream",
          "text": [
            "/content\n"
          ],
          "name": "stdout"
        }
      ]
    },
    {
      "cell_type": "code",
      "metadata": {
        "id": "17zHkwNeaAtt",
        "colab": {
          "base_uri": "https://localhost:8080/",
          "height": 34
        },
        "outputId": "fe30609a-dbc6-401a-a9e4-9198c52f3ddd"
      },
      "source": [
        "import os\n",
        "os.getcwd()"
      ],
      "execution_count": null,
      "outputs": [
        {
          "output_type": "execute_result",
          "data": {
            "text/plain": [
              "'/content'"
            ]
          },
          "metadata": {
            "tags": []
          },
          "execution_count": 28
        }
      ]
    },
    {
      "cell_type": "markdown",
      "metadata": {
        "id": "4_OF64JG4C1Y"
      },
      "source": [
        "## **Copy files from Google Colab to Google Drive**"
      ]
    },
    {
      "cell_type": "code",
      "metadata": {
        "id": "bhMF_iDhAGYB",
        "colab": {
          "base_uri": "https://localhost:8080/",
          "height": 34
        },
        "outputId": "667034b0-8ebe-4a6a-feee-ea085bb241b1"
      },
      "source": [
        "! ls \"/content/gdrive/My Drive/dataset/\""
      ],
      "execution_count": null,
      "outputs": [
        {
          "output_type": "stream",
          "text": [
            "dhfr.csv\n"
          ],
          "name": "stdout"
        }
      ]
    },
    {
      "cell_type": "code",
      "metadata": {
        "id": "J22i1xN-1Civ"
      },
      "source": [
        "! cp data.txt data2.txt \"/content/gdrive/My Drive/dataset/\""
      ],
      "execution_count": null,
      "outputs": []
    },
    {
      "cell_type": "code",
      "metadata": {
        "id": "972YS7lE4PRB",
        "colab": {
          "base_uri": "https://localhost:8080/",
          "height": 34
        },
        "outputId": "ab51212b-9352-4edb-fdf5-9cc02c01a8a6"
      },
      "source": [
        "! ls \"/content/gdrive/My Drive/dataset/\""
      ],
      "execution_count": null,
      "outputs": [
        {
          "output_type": "stream",
          "text": [
            "data2.txt  data.txt  dhfr.csv\n"
          ],
          "name": "stdout"
        }
      ]
    },
    {
      "cell_type": "markdown",
      "metadata": {
        "id": "fudQhf4T4bJd"
      },
      "source": [
        "## **Move files from Google Colab to Google Drive**"
      ]
    },
    {
      "cell_type": "code",
      "metadata": {
        "id": "dXktQnD64RZN",
        "colab": {
          "base_uri": "https://localhost:8080/",
          "height": 51
        },
        "outputId": "03e3fcdf-a52f-4398-ce3a-78d702cd4974"
      },
      "source": [
        "! ls"
      ],
      "execution_count": null,
      "outputs": [
        {
          "output_type": "stream",
          "text": [
            "compiled_data  data.txt  gdrive       weather-weka.csv\n",
            "data2.txt      dhfr.csv  sample_data\n"
          ],
          "name": "stdout"
        }
      ]
    },
    {
      "cell_type": "markdown",
      "metadata": {
        "id": "-7FYuSsldEkL"
      },
      "source": [
        "Use the **mv** command to move files to the Google Drive."
      ]
    },
    {
      "cell_type": "code",
      "metadata": {
        "id": "jiMlc3_wYIz8"
      },
      "source": [
        "! mv weather-weka.csv \"/content/gdrive/My Drive/dataset/\""
      ],
      "execution_count": null,
      "outputs": []
    },
    {
      "cell_type": "markdown",
      "metadata": {
        "id": "OkJutSdbYTM1"
      },
      "source": [
        "Let's list the contents of the **dataset** directory on Google Drive to see whether the copied file is indeed present."
      ]
    },
    {
      "cell_type": "code",
      "metadata": {
        "id": "jGl3gSt1YOE7",
        "colab": {
          "base_uri": "https://localhost:8080/",
          "height": 34
        },
        "outputId": "d4b708d8-f5c2-4020-8561-d6345074dd4d"
      },
      "source": [
        "! ls \"/content/gdrive/My Drive/dataset/\""
      ],
      "execution_count": null,
      "outputs": [
        {
          "output_type": "stream",
          "text": [
            "data2.txt  data.txt  dhfr.csv  weather-weka.csv\n"
          ],
          "name": "stdout"
        }
      ]
    },
    {
      "cell_type": "markdown",
      "metadata": {
        "id": "Tg-QUS1abWkW"
      },
      "source": [
        "The file weather-weka.csv is moved to the destination directory from the source directory (the file no longer exists)."
      ]
    },
    {
      "cell_type": "code",
      "metadata": {
        "id": "TMx-xh60bSg6",
        "colab": {
          "base_uri": "https://localhost:8080/",
          "height": 34
        },
        "outputId": "e2da6dcc-9b3f-4726-8dd7-8724a293000e"
      },
      "source": [
        "! ls"
      ],
      "execution_count": null,
      "outputs": [
        {
          "output_type": "stream",
          "text": [
            "compiled_data  data2.txt  data.txt  dhfr.csv  gdrive  sample_data\n"
          ],
          "name": "stdout"
        }
      ]
    },
    {
      "cell_type": "markdown",
      "metadata": {
        "id": "eNberzSGdTyT"
      },
      "source": [
        "The **mv** command can also be used to rename files."
      ]
    },
    {
      "cell_type": "code",
      "metadata": {
        "id": "Fz1TPKc0YR2n"
      },
      "source": [
        "! mv dhfr.csv dhfr2.csv"
      ],
      "execution_count": null,
      "outputs": []
    },
    {
      "cell_type": "markdown",
      "metadata": {
        "id": "o9uQX6Y6Yn8Y"
      },
      "source": [
        "## **Delete files**"
      ]
    },
    {
      "cell_type": "code",
      "metadata": {
        "id": "5LRJ33jzYqby",
        "colab": {
          "base_uri": "https://localhost:8080/",
          "height": 34
        },
        "outputId": "3087221b-1d84-4eed-ed44-d0013c6bffcf"
      },
      "source": [
        "! ls"
      ],
      "execution_count": null,
      "outputs": [
        {
          "output_type": "stream",
          "text": [
            "compiled_data  data2.txt  data.txt  dhfr2.csv  gdrive  sample_data\n"
          ],
          "name": "stdout"
        }
      ]
    },
    {
      "cell_type": "markdown",
      "metadata": {
        "id": "ZwimCq-nY3jz"
      },
      "source": [
        "Use the **rm** command to delete a file of interest."
      ]
    },
    {
      "cell_type": "code",
      "metadata": {
        "id": "FxBAbepEYzGl"
      },
      "source": [
        "! rm dhfr2.csv"
      ],
      "execution_count": null,
      "outputs": []
    },
    {
      "cell_type": "code",
      "metadata": {
        "id": "ir8LR0tQcJy7",
        "colab": {
          "base_uri": "https://localhost:8080/",
          "height": 34
        },
        "outputId": "75eea2d8-5e78-4355-e1e5-506e3256387d"
      },
      "source": [
        "! ls"
      ],
      "execution_count": null,
      "outputs": [
        {
          "output_type": "stream",
          "text": [
            "compiled_data  data2.txt  data.txt  gdrive  sample_data\n"
          ],
          "name": "stdout"
        }
      ]
    },
    {
      "cell_type": "markdown",
      "metadata": {
        "id": "H2zPF2diasRs"
      },
      "source": [
        "## **Delete a directory**"
      ]
    },
    {
      "cell_type": "markdown",
      "metadata": {
        "id": "zBhNMclJaz5u"
      },
      "source": [
        "Before we can show you how to delete a directory containing files, we will first create and populate one."
      ]
    },
    {
      "cell_type": "code",
      "metadata": {
        "id": "1-KTu6O4Y2aY"
      },
      "source": [
        "! mkdir tmp_data"
      ],
      "execution_count": null,
      "outputs": []
    },
    {
      "cell_type": "code",
      "metadata": {
        "id": "URa12FyhbcYq",
        "colab": {
          "base_uri": "https://localhost:8080/",
          "height": 289
        },
        "outputId": "31513e54-0a62-49fc-e465-75e25f577f6c"
      },
      "source": [
        "! wget https://github.com/dataprofessor/data/raw/master/heart-disease-cleveland.csv"
      ],
      "execution_count": null,
      "outputs": [
        {
          "output_type": "stream",
          "text": [
            "--2020-03-27 12:23:04--  https://github.com/dataprofessor/data/raw/master/heart-disease-cleveland.csv\n",
            "Resolving github.com (github.com)... 140.82.114.3\n",
            "Connecting to github.com (github.com)|140.82.114.3|:443... connected.\n",
            "HTTP request sent, awaiting response... 302 Found\n",
            "Location: https://raw.githubusercontent.com/dataprofessor/data/master/heart-disease-cleveland.csv [following]\n",
            "--2020-03-27 12:23:05--  https://raw.githubusercontent.com/dataprofessor/data/master/heart-disease-cleveland.csv\n",
            "Resolving raw.githubusercontent.com (raw.githubusercontent.com)... 151.101.0.133, 151.101.64.133, 151.101.128.133, ...\n",
            "Connecting to raw.githubusercontent.com (raw.githubusercontent.com)|151.101.0.133|:443... connected.\n",
            "HTTP request sent, awaiting response... 200 OK\n",
            "Length: 12237 (12K) [text/plain]\n",
            "Saving to: ‘heart-disease-cleveland.csv’\n",
            "\n",
            "heart-disease-cleve 100%[===================>]  11.95K  --.-KB/s    in 0s      \n",
            "\n",
            "2020-03-27 12:23:05 (167 MB/s) - ‘heart-disease-cleveland.csv’ saved [12237/12237]\n",
            "\n"
          ],
          "name": "stdout"
        }
      ]
    },
    {
      "cell_type": "code",
      "metadata": {
        "id": "pmbxXzvUbn8X"
      },
      "source": [
        "! mv heart-disease-cleveland.csv tmp_data"
      ],
      "execution_count": null,
      "outputs": []
    },
    {
      "cell_type": "code",
      "metadata": {
        "id": "uIKHtrsNbY2r",
        "colab": {
          "base_uri": "https://localhost:8080/",
          "height": 34
        },
        "outputId": "80d2957c-fdac-41ba-8dd7-11d68bda9ac3"
      },
      "source": [
        "! ls tmp_data"
      ],
      "execution_count": null,
      "outputs": [
        {
          "output_type": "stream",
          "text": [
            "heart-disease-cleveland.csv\n"
          ],
          "name": "stdout"
        }
      ]
    },
    {
      "cell_type": "markdown",
      "metadata": {
        "id": "VIeFYCaPb4o_"
      },
      "source": [
        "Now, we are able to delete the **tmp_data** directory that contains a text file using the **rm** command together with the -r option."
      ]
    },
    {
      "cell_type": "code",
      "metadata": {
        "id": "xd5dpw3qCuDZ",
        "colab": {
          "base_uri": "https://localhost:8080/",
          "height": 34
        },
        "outputId": "e33c0be9-32d1-4819-86dd-ce8bdf5a285c"
      },
      "source": [
        "! rm tmp_data"
      ],
      "execution_count": null,
      "outputs": [
        {
          "output_type": "stream",
          "text": [
            "rm: cannot remove 'tmp_data': Is a directory\n"
          ],
          "name": "stdout"
        }
      ]
    },
    {
      "cell_type": "code",
      "metadata": {
        "id": "pJrlJ16Dbp9k"
      },
      "source": [
        "! rm -r tmp_data"
      ],
      "execution_count": null,
      "outputs": []
    },
    {
      "cell_type": "code",
      "metadata": {
        "id": "Ed7HB07ZcDA9",
        "colab": {
          "base_uri": "https://localhost:8080/",
          "height": 34
        },
        "outputId": "982ee066-72eb-49cf-de83-bbed1423f7f3"
      },
      "source": [
        "! ls"
      ],
      "execution_count": null,
      "outputs": [
        {
          "output_type": "stream",
          "text": [
            "compiled_data  data2.txt  data.txt  gdrive  sample_data\n"
          ],
          "name": "stdout"
        }
      ]
    },
    {
      "cell_type": "markdown",
      "metadata": {
        "id": "v-eZn26SCFTF"
      },
      "source": [
        "Deleting an empty directory can be also done using the **rm** command together with the -r option."
      ]
    },
    {
      "cell_type": "code",
      "metadata": {
        "id": "3HXjQ_ldCQh5"
      },
      "source": [
        "! rm -r compiled_data"
      ],
      "execution_count": null,
      "outputs": []
    },
    {
      "cell_type": "code",
      "metadata": {
        "id": "pTjzbRKlClmh",
        "colab": {
          "base_uri": "https://localhost:8080/",
          "height": 34
        },
        "outputId": "c301dd84-f917-4867-f635-4613db7ed21f"
      },
      "source": [
        "! ls"
      ],
      "execution_count": null,
      "outputs": [
        {
          "output_type": "stream",
          "text": [
            "data2.txt  data.txt  gdrive  sample_data\n"
          ],
          "name": "stdout"
        }
      ]
    },
    {
      "cell_type": "markdown",
      "metadata": {
        "id": "acuIHRPGdZ36"
      },
      "source": [
        "---"
      ]
    }
  ]
}